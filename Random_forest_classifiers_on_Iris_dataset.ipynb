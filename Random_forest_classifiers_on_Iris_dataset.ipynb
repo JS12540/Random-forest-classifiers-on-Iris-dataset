{
  "nbformat": 4,
  "nbformat_minor": 0,
  "metadata": {
    "colab": {
      "provenance": [],
      "gpuType": "T4"
    },
    "kernelspec": {
      "name": "python3",
      "display_name": "Python 3"
    },
    "language_info": {
      "name": "python"
    },
    "accelerator": "GPU"
  },
  "cells": [
    {
      "cell_type": "markdown",
      "source": [
        "## Import necessary libraries"
      ],
      "metadata": {
        "id": "noNQZ_Tges5z"
      }
    },
    {
      "cell_type": "code",
      "execution_count": 6,
      "metadata": {
        "id": "sstrI3clVhyf"
      },
      "outputs": [],
      "source": [
        "import pandas as pd\n",
        "from sklearn.model_selection import train_test_split\n",
        "from sklearn.ensemble import RandomForestClassifier\n",
        "from sklearn.metrics import accuracy_score, classification_report, confusion_matrix"
      ]
    },
    {
      "cell_type": "markdown",
      "source": [
        "## Load the Iris dataset"
      ],
      "metadata": {
        "id": "BLd5B7p9ewv8"
      }
    },
    {
      "cell_type": "code",
      "source": [
        "# Load the Iris dataset\n",
        "url = \"https://archive.ics.uci.edu/ml/machine-learning-databases/iris/iris.data\"\n",
        "names = ['sepal_length', 'sepal_width', 'petal_length', 'petal_width', 'class']\n",
        "iris_data = pd.read_csv(url, names=names)\n",
        "\n",
        "# Display the first few rows of the dataset\n",
        "print(iris_data.head())\n"
      ],
      "metadata": {
        "colab": {
          "base_uri": "https://localhost:8080/"
        },
        "id": "0H54fTQkVsgU",
        "outputId": "a50b0c39-05be-4644-913e-baa136aa823f"
      },
      "execution_count": 7,
      "outputs": [
        {
          "output_type": "stream",
          "name": "stdout",
          "text": [
            "   sepal_length  sepal_width  petal_length  petal_width        class\n",
            "0           5.1          3.5           1.4          0.2  Iris-setosa\n",
            "1           4.9          3.0           1.4          0.2  Iris-setosa\n",
            "2           4.7          3.2           1.3          0.2  Iris-setosa\n",
            "3           4.6          3.1           1.5          0.2  Iris-setosa\n",
            "4           5.0          3.6           1.4          0.2  Iris-setosa\n"
          ]
        }
      ]
    },
    {
      "cell_type": "code",
      "source": [
        "# Split the dataset into features (X) and target variable (y)\n",
        "X = iris_data.iloc[:, :-1]\n",
        "y = iris_data.iloc[:, -1]"
      ],
      "metadata": {
        "id": "GXZbX5OKVwmQ"
      },
      "execution_count": 8,
      "outputs": []
    },
    {
      "cell_type": "markdown",
      "source": [
        "## Initialize the Random Forest model and train the model"
      ],
      "metadata": {
        "id": "Lr6z0RB8e3jv"
      }
    },
    {
      "cell_type": "code",
      "source": [
        "# Split the data into training and testing sets\n",
        "X_train, X_test, y_train, y_test = train_test_split(X, y, test_size=0.2, random_state=42)\n",
        "\n",
        "# Initialize the Random Forest model\n",
        "rf_model = RandomForestClassifier(n_estimators=100, random_state=42)\n",
        "\n",
        "# Train the model\n",
        "rf_model.fit(X_train, y_train)\n",
        "\n",
        "# Make predictions on the test set\n",
        "y_pred = rf_model.predict(X_test)"
      ],
      "metadata": {
        "id": "wiUlHh4eV18-"
      },
      "execution_count": 9,
      "outputs": []
    },
    {
      "cell_type": "markdown",
      "source": [
        "## Evaluate the performance of the model"
      ],
      "metadata": {
        "id": "1I-_Q1I3fAcN"
      }
    },
    {
      "cell_type": "code",
      "source": [
        "# Evaluate the performance of the model\n",
        "accuracy = accuracy_score(y_test, y_pred)\n",
        "conf_matrix = confusion_matrix(y_test, y_pred)\n",
        "classification_rep = classification_report(y_test, y_pred)\n",
        "\n",
        "# Display the results\n",
        "print(f\"Accuracy: {accuracy}\")\n",
        "print(\"\\nConfusion Matrix:\")\n",
        "print(conf_matrix)\n",
        "print(\"\\nClassification Report:\")\n",
        "print(classification_rep)"
      ],
      "metadata": {
        "colab": {
          "base_uri": "https://localhost:8080/"
        },
        "id": "ljI4Cb8NV5e0",
        "outputId": "d43e9ecb-09cf-44d2-beab-8caac1df4a1b"
      },
      "execution_count": 10,
      "outputs": [
        {
          "output_type": "stream",
          "name": "stdout",
          "text": [
            "Accuracy: 1.0\n",
            "\n",
            "Confusion Matrix:\n",
            "[[10  0  0]\n",
            " [ 0  9  0]\n",
            " [ 0  0 11]]\n",
            "\n",
            "Classification Report:\n",
            "                 precision    recall  f1-score   support\n",
            "\n",
            "    Iris-setosa       1.00      1.00      1.00        10\n",
            "Iris-versicolor       1.00      1.00      1.00         9\n",
            " Iris-virginica       1.00      1.00      1.00        11\n",
            "\n",
            "       accuracy                           1.00        30\n",
            "      macro avg       1.00      1.00      1.00        30\n",
            "   weighted avg       1.00      1.00      1.00        30\n",
            "\n"
          ]
        }
      ]
    },
    {
      "cell_type": "markdown",
      "source": [
        "## Make predictions on new data"
      ],
      "metadata": {
        "id": "dKwU9mtjfCYW"
      }
    },
    {
      "cell_type": "code",
      "source": [
        "# Example of new data for prediction\n",
        "new_data = [[5.1, 3.5, 1.4, 0.2],  # Sample 1\n",
        "            [6.3, 2.8, 5.1, 1.5],  # Sample 2\n",
        "            [7.0, 3.2, 4.7, 1.4]]  # Sample 3\n",
        "\n",
        "# Convert the new data to a DataFrame\n",
        "new_data_df = pd.DataFrame(new_data, columns=['sepal_length', 'sepal_width', 'petal_length', 'petal_width'])\n",
        "\n",
        "# Use the trained model to make predictions on the new data\n",
        "predictions = rf_model.predict(new_data_df)\n",
        "\n",
        "# Actual class labels for the new data\n",
        "actual_labels = ['Iris-setosa', 'Iris-virginica', 'Iris-versicolor']\n",
        "\n",
        "# Compare predictions with actual labels\n",
        "for i, (prediction, actual) in enumerate(zip(predictions, actual_labels)):\n",
        "    print(f\"Sample {i+1}: Predicted Class - {prediction}, Actual Class - {actual}\")\n",
        "\n",
        "# Check accuracy\n",
        "accuracy = accuracy_score(actual_labels, predictions)\n",
        "print(f\"\\nAccuracy on new data: {accuracy}\")\n"
      ],
      "metadata": {
        "colab": {
          "base_uri": "https://localhost:8080/"
        },
        "id": "FfLkyCR1edzi",
        "outputId": "552fcd52-5724-4d84-8b25-d69d96ed3ed3"
      },
      "execution_count": 12,
      "outputs": [
        {
          "output_type": "stream",
          "name": "stdout",
          "text": [
            "Sample 1: Predicted Class - Iris-setosa, Actual Class - Iris-setosa\n",
            "Sample 2: Predicted Class - Iris-virginica, Actual Class - Iris-virginica\n",
            "Sample 3: Predicted Class - Iris-versicolor, Actual Class - Iris-versicolor\n",
            "\n",
            "Accuracy on new data: 1.0\n"
          ]
        }
      ]
    },
    {
      "cell_type": "markdown",
      "source": [
        "[Architecture and Maths behind Random Forest](https://chat.openai.com/share/2e71f0ae-703a-46f4-b363-189475c82815)"
      ],
      "metadata": {
        "id": "kJaLKFAEcnw1"
      }
    },
    {
      "cell_type": "markdown",
      "source": [
        "[Code explanation and accuracies](https://chat.openai.com/share/6de66349-1c6c-4e4f-ac26-646315fb7297)"
      ],
      "metadata": {
        "id": "qNkKoBTrczn1"
      }
    }
  ]
}